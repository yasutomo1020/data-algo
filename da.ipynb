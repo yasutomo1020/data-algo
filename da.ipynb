{
  "nbformat": 4,
  "nbformat_minor": 0,
  "metadata": {
    "colab": {
      "name": "da",
      "provenance": [],
      "collapsed_sections": [],
      "authorship_tag": "ABX9TyNzD26B8MVk7xe4Nt9d3cAx",
      "include_colab_link": true
    },
    "kernelspec": {
      "name": "python3",
      "display_name": "Python 3"
    },
    "language_info": {
      "name": "python"
    }
  },
  "cells": [
    {
      "cell_type": "markdown",
      "metadata": {
        "id": "view-in-github",
        "colab_type": "text"
      },
      "source": [
        "<a href=\"https://colab.research.google.com/github/yasutomo1020/data-algo/blob/main/da.ipynb\" target=\"_parent\"><img src=\"https://colab.research.google.com/assets/colab-badge.svg\" alt=\"Open In Colab\"/></a>"
      ]
    },
    {
      "cell_type": "code",
      "metadata": {
        "colab": {
          "base_uri": "https://localhost:8080/"
        },
        "id": "hi08ttrEDPTg",
        "outputId": "f032570d-bdb8-4712-c062-fb9b0774fad5"
      },
      "source": [
        "%%file 2.c　#ソースコードを作成\n",
        "\n",
        "#include <stdio.h>   /* 標準入出力のヘッダファイルの読込み */\n",
        "#include <stdlib.h>  /* 標準ライブラリのヘッダファイル */\n",
        "#define N 100        /* 配列Sの最大サイズ（節点数） */\n",
        "struct cell          /* 構造体cellの定義 */\n",
        "{\n",
        " int node;\n",
        " struct cell *next;\n",
        "};\n",
        "void preorder(int k, struct cell **S);  /* 関数の宣言 */\n",
        "main()  \n",
        "/* Traverse a tree S in preorder. */\n",
        "{\n",
        " struct cell *S[N], *p, *q;\n",
        " int n, j, parent, child, root;\n",
        " FILE *file;\n",
        " file=fopen(\"treedata\", \"r\");\n",
        " fscanf(file, \"%d\", &n);\n",
        " if(n>N) \n",
        "   {\n",
        "    printf(\"Illegal array size n = %d for N = %d\\n\", n, N); \n",
        "    exit(1);\n",
        "   }\n",
        " printf(\"n = %d\\n\", n);\n",
        " for(j=0; j<n; j++) S[j]=NULL;\n",
        " fscanf(file, \"%d\", &parent);\n",
        " while(parent >= 0)\n",
        "   {\n",
        "    fscanf(file, \"%d\", &child);\n",
        "    if(child >= 0)\n",
        "      {\n",
        "       p=(struct cell *)malloc(sizeof(struct cell));\n",
        "       S[parent]=q=p;\n",
        "      } \n",
        "    while(child >= 0)\n",
        "      {\n",
        "       q->node=child;\n",
        "       q->next=NULL;\n",
        "       fscanf(file, \"%d\", &child);\n",
        "       if(child >= 0)\n",
        "         {\n",
        "          p=(struct cell *)malloc(sizeof(struct cell));\n",
        "          q->next=p;\n",
        "          q=p;\n",
        "         }\n",
        "      }\n",
        "    fscanf(file, \"%d\", &parent);\n",
        "   }\n",
        " for(j=0; j<n; j++) \n",
        "   {\n",
        "    printf(\"S[%d] = %p, \", j, S[j]);\n",
        "    q=S[j];\n",
        "    while(q != NULL) \n",
        "      {\n",
        "       printf(\"node = %d, next = %p, \", q->node, q->next);\n",
        "       q=q->next;\n",
        "      }\n",
        "    printf(\"\\n\");\n",
        "   }\n",
        " root=0;\n",
        " printf(\"preorder =\");\n",
        " preorder(root, S);\n",
        " printf(\"\\n\");\n",
        " return(0);\n",
        "}\n",
        "\n",
        "void preorder(int k, struct cell **S) \n",
        "/* S[k]を根とする部分木の前順によるなぞり */\n",
        "{\n",
        " struct cell *q;\n",
        "\n",
        " printf(\" %d\", k);      /* 節点kの出力 */\n",
        " q=S[k];                /* kから前順のなぞり */\n",
        " while(q != NULL)\n",
        "   {\n",
        "    preorder(q->node, S);   /* 再帰呼び出し */\n",
        "    q=q->next;\n",
        "   }\n",
        " return;\n",
        "}"
      ],
      "execution_count": null,
      "outputs": [
        {
          "output_type": "stream",
          "name": "stdout",
          "text": [
            "Writing 2.c　#ソースコード\n"
          ]
        }
      ]
    },
    {
      "cell_type": "code",
      "metadata": {
        "colab": {
          "base_uri": "https://localhost:8080/"
        },
        "id": "fDSiTeQtD5JG",
        "outputId": "65e5843b-2a2a-48ad-c4ad-a152dd9e44d8"
      },
      "source": [
        "!gcc -o 2 2.c　#コンパイル"
      ],
      "execution_count": null,
      "outputs": [
        {
          "output_type": "stream",
          "name": "stdout",
          "text": [
            "\u001b[01m\u001b[K2.c:11:1:\u001b[m\u001b[K \u001b[01;35m\u001b[Kwarning: \u001b[m\u001b[Kreturn type defaults to ‘\u001b[01m\u001b[Kint\u001b[m\u001b[K’ [\u001b[01;35m\u001b[K-Wimplicit-int\u001b[m\u001b[K]\n",
            " \u001b[01;35m\u001b[Kmain\u001b[m\u001b[K()\n",
            " \u001b[01;35m\u001b[K^~~~\u001b[m\u001b[K\n"
          ]
        }
      ]
    },
    {
      "cell_type": "code",
      "metadata": {
        "colab": {
          "base_uri": "https://localhost:8080/"
        },
        "id": "-XDPI8t-EQV9",
        "outputId": "309392e8-0a37-48e3-8ff7-5d5e76be81c0"
      },
      "source": [
        "!./2 #実行"
      ],
      "execution_count": null,
      "outputs": [
        {
          "output_type": "stream",
          "name": "stdout",
          "text": [
            "n = 10\n",
            "S[0] = 0x5561de74a010, node = 1, next = 0x5561de74a020, node = 2, next = (nil), \n",
            "S[1] = 0x5561de74a030, node = 3, next = 0x5561de74a040, node = 4, next = 0x5561de74a050, node = 5, next = (nil), \n",
            "S[2] = 0x5561de74a060, node = 6, next = 0x5561de74a070, node = 7, next = (nil), \n",
            "S[3] = (nil), \n",
            "S[4] = (nil), \n",
            "S[5] = (nil), \n",
            "S[6] = 0x5561de74a080, node = 8, next = 0x5561de74a090, node = 9, next = (nil), \n",
            "S[7] = (nil), \n",
            "S[8] = (nil), \n",
            "S[9] = (nil), \n",
            "preorder = 0 1 3 4 5 2 6 8 9 7\n"
          ]
        }
      ]
    }
  ]
}