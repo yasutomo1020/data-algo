{
  "nbformat": 4,
  "nbformat_minor": 0,
  "metadata": {
    "colab": {
      "name": "da",
      "provenance": [],
      "collapsed_sections": [],
      "authorship_tag": "ABX9TyMJxlYlQUxLSXpyrWulUoXq",
      "include_colab_link": true
    },
    "kernelspec": {
      "name": "python3",
      "display_name": "Python 3"
    },
    "language_info": {
      "name": "python"
    }
  },
  "cells": [
    {
      "cell_type": "markdown",
      "metadata": {
        "id": "view-in-github",
        "colab_type": "text"
      },
      "source": [
        "<a href=\"https://colab.research.google.com/github/yasutomo1020/data-algo/blob/main/da.ipynb\" target=\"_parent\"><img src=\"https://colab.research.google.com/assets/colab-badge.svg\" alt=\"Open In Colab\"/></a>"
      ]
    },
    {
      "cell_type": "code",
      "metadata": {
        "colab": {
          "base_uri": "https://localhost:8080/"
        },
        "id": "fDSiTeQtD5JG",
        "outputId": "07d69c3d-3fe9-4a8e-b7db-58ac57d1425f"
      },
      "source": [
        "#問２\n",
        "#コンパイル\n",
        "!gcc -o 2back 2back.c\n",
        "#実行\n",
        "!./2back"
      ],
      "execution_count": 37,
      "outputs": [
        {
          "output_type": "stream",
          "name": "stdout",
          "text": [
            "n = 10\n",
            "S[0] = 0x55f46c9ea010, node = 1, next = 0x55f46c9ea020, node = 2, next = (nil), \n",
            "S[1] = 0x55f46c9ea030, node = 3, next = 0x55f46c9ea040, node = 4, next = 0x55f46c9ea050, node = 5, next = (nil), \n",
            "S[2] = 0x55f46c9ea060, node = 6, next = 0x55f46c9ea070, node = 7, next = (nil), \n",
            "S[3] = (nil), \n",
            "S[4] = (nil), \n",
            "S[5] = (nil), \n",
            "S[6] = 0x55f46c9ea080, node = 8, next = 0x55f46c9ea090, node = 9, next = (nil), \n",
            "S[7] = (nil), \n",
            "S[8] = (nil), \n",
            "S[9] = (nil), \n",
            "preorder = 0 1 3 4 5 2 6 8 9 7\n"
          ]
        }
      ]
    },
    {
      "cell_type": "code",
      "metadata": {
        "colab": {
          "base_uri": "https://localhost:8080/"
        },
        "id": "aX8kEXlco5cl",
        "outputId": "e726aa61-fca8-422a-be6c-0be3f9ef0e81"
      },
      "source": [
        "#問１\n",
        "#コンパイル\n",
        "!gcc -o 1 1.c\n",
        "#実行\n",
        "!./1"
      ],
      "execution_count": 39,
      "outputs": [
        {
          "output_type": "stream",
          "name": "stdout",
          "text": [
            "Type in the first integer.\n",
            "10\n",
            "a0 = 10\n",
            "Type in the second integer.\n",
            "30\n",
            "a1 = 30\n",
            "GCD = 10\n"
          ]
        }
      ]
    }
  ]
}